{
 "cells": [
  {
   "cell_type": "code",
   "execution_count": 7,
   "metadata": {},
   "outputs": [],
   "source": [
    "from nltk.corpus import webtext\n",
    "from nltk.collocations import BigramCollocationFinder\n",
    "from nltk.metrics import BigramAssocMeasures\n",
    "from nltk.tokenize import word_tokenize, sent_tokenize"
   ]
  },
  {
   "cell_type": "code",
   "execution_count": 2,
   "metadata": {},
   "outputs": [],
   "source": [
    "parag = \"\"\"The 'Master Blaster' had once said that Dhoni is probably the best captain he had played with. And this sentence from Tendulkar speaks volume of how much Dhoni has contributed not just to Indian cricket but the sport as a whole.\n",
    "By no means can Dhoni be ever said as a conventional cricketer, especially batsman, who possesses the right technique which is a requisite at the international stage. He doesn't caress the off drives or the leg glances but what he does is something which all batsmen dream about.\n",
    "Despite of not looking pretty while batting, Dhoni -- over the years -- has made sure he scores runs for the team and wins India matches, which ultimately is the goal of any cricketer.\n",
    "In the recent years, he has faced a lot of criticism for his batting. Questions have been raised on his approach to batting with some even suggesting that Dhoni is now an old warhorse.\n",
    "However, like many great cricketers, Dhoni has never let his lips do the talking and has always answered his critics fittingly with the bat by scoring runs in bulk.\"\"\""
   ]
  },
  {
   "cell_type": "code",
   "execution_count": 9,
   "metadata": {},
   "outputs": [],
   "source": [
    "# sent = sent_tokenize()\n",
    "textwords = word_tokenize(parag)"
   ]
  },
  {
   "cell_type": "code",
   "execution_count": 14,
   "metadata": {},
   "outputs": [],
   "source": [
    "finder = BigramCollocationFinder.from_words(textwords)"
   ]
  },
  {
   "cell_type": "code",
   "execution_count": 15,
   "metadata": {},
   "outputs": [
    {
     "data": {
      "text/plain": [
       "<nltk.collocations.BigramCollocationFinder at 0x6176ef0>"
      ]
     },
     "execution_count": 15,
     "metadata": {},
     "output_type": "execute_result"
    }
   ],
   "source": [
    "finder"
   ]
  },
  {
   "cell_type": "code",
   "execution_count": 17,
   "metadata": {},
   "outputs": [
    {
     "data": {
      "text/plain": [
       "[('as', 'a'),\n",
       " ('that', 'Dhoni'),\n",
       " (\"'Master\", 'Blaster'),\n",
       " ('And', 'this'),\n",
       " ('Blaster', \"'\"),\n",
       " ('By', 'no'),\n",
       " ('India', 'matches'),\n",
       " ('Indian', 'cricket'),\n",
       " ('Questions', 'have'),\n",
       " ('Tendulkar', 'speaks'),\n",
       " ('The', \"'Master\"),\n",
       " ('all', 'batsmen'),\n",
       " ('always', 'answered'),\n",
       " ('an', 'old'),\n",
       " ('bat', 'by'),\n",
       " ('batsmen', 'dream'),\n",
       " ('be', 'ever'),\n",
       " ('been', 'raised'),\n",
       " ('best', 'captain'),\n",
       " ('by', 'scoring'),\n",
       " ('critics', 'fittingly'),\n",
       " ('dream', 'about'),\n",
       " ('drives', 'or'),\n",
       " ('especially', 'batsman'),\n",
       " ('even', 'suggesting'),\n",
       " ('from', 'Tendulkar'),\n",
       " ('great', 'cricketers'),\n",
       " ('have', 'been'),\n",
       " ('how', 'much'),\n",
       " ('in', 'bulk'),\n",
       " ('international', 'stage'),\n",
       " ('leg', 'glances'),\n",
       " ('like', 'many'),\n",
       " ('lips', 'do'),\n",
       " ('looking', 'pretty'),\n",
       " ('made', 'sure'),\n",
       " ('many', 'great'),\n",
       " ('means', 'can'),\n",
       " (\"n't\", 'caress'),\n",
       " ('never', 'let'),\n",
       " ('no', 'means'),\n",
       " ('now', 'an'),\n",
       " ('off', 'drives'),\n",
       " ('old', 'warhorse'),\n",
       " ('pretty', 'while'),\n",
       " ('raised', 'on'),\n",
       " ('requisite', 'at'),\n",
       " ('right', 'technique'),\n",
       " ('sentence', 'from'),\n",
       " ('some', 'even')]"
      ]
     },
     "execution_count": 17,
     "metadata": {},
     "output_type": "execute_result"
    }
   ],
   "source": [
    "finder.nbest(BigramAssocMeasures.likelihood_ratio, 50)"
   ]
  },
  {
   "cell_type": "code",
   "execution_count": 19,
   "metadata": {},
   "outputs": [],
   "source": [
    "from nltk.corpus import stopwords\n",
    "ignored_words = stopwords.words('english')"
   ]
  },
  {
   "cell_type": "code",
   "execution_count": 20,
   "metadata": {},
   "outputs": [],
   "source": [
    "fiterstops = lambda w : len(w) < 3 or w in ignored_words"
   ]
  },
  {
   "cell_type": "code",
   "execution_count": 21,
   "metadata": {},
   "outputs": [],
   "source": [
    "finder.apply_word_filter(fiterstops)"
   ]
  },
  {
   "cell_type": "code",
   "execution_count": 23,
   "metadata": {},
   "outputs": [
    {
     "data": {
      "text/plain": [
       "[(\"'Master\", 'Blaster'),\n",
       " ('India', 'matches'),\n",
       " ('Indian', 'cricket'),\n",
       " ('Tendulkar', 'speaks'),\n",
       " ('The', \"'Master\"),\n",
       " ('always', 'answered'),\n",
       " ('batsmen', 'dream'),\n",
       " ('best', 'captain'),\n",
       " ('critics', 'fittingly'),\n",
       " ('especially', 'batsman'),\n",
       " ('even', 'suggesting'),\n",
       " ('great', 'cricketers'),\n",
       " ('international', 'stage'),\n",
       " ('leg', 'glances'),\n",
       " ('like', 'many'),\n",
       " ('looking', 'pretty'),\n",
       " ('made', 'sure'),\n",
       " ('many', 'great'),\n",
       " (\"n't\", 'caress'),\n",
       " ('never', 'let'),\n",
       " ('old', 'warhorse'),\n",
       " ('right', 'technique'),\n",
       " ('speaks', 'volume'),\n",
       " ('wins', 'India'),\n",
       " ('conventional', 'cricketer'),\n",
       " ('ever', 'said'),\n",
       " ('recent', 'years'),\n",
       " ('scores', 'runs'),\n",
       " ('scoring', 'runs'),\n",
       " ('much', 'Dhoni')]"
      ]
     },
     "execution_count": 23,
     "metadata": {},
     "output_type": "execute_result"
    }
   ],
   "source": [
    "finder.nbest(BigramAssocMeasures.likelihood_ratio,50)"
   ]
  },
  {
   "cell_type": "code",
   "execution_count": 24,
   "metadata": {},
   "outputs": [],
   "source": [
    "from nltk.metrics import TrigramAssocMeasures\n",
    "from nltk.collocations import TrigramCollocationFinder"
   ]
  },
  {
   "cell_type": "code",
   "execution_count": 25,
   "metadata": {},
   "outputs": [],
   "source": [
    "finder = TrigramCollocationFinder.from_words(textwords)"
   ]
  },
  {
   "cell_type": "code",
   "execution_count": 26,
   "metadata": {},
   "outputs": [
    {
     "data": {
      "text/plain": [
       "[('that', 'Dhoni', 'is'),\n",
       " ('as', 'a', 'conventional'),\n",
       " ('as', 'a', 'whole'),\n",
       " ('sport', 'as', 'a'),\n",
       " (\"'Master\", 'Blaster', \"'\"),\n",
       " ('And', 'this', 'sentence'),\n",
       " ('By', 'no', 'means'),\n",
       " ('Questions', 'have', 'been'),\n",
       " ('Tendulkar', 'speaks', 'volume'),\n",
       " ('The', \"'Master\", 'Blaster')]"
      ]
     },
     "execution_count": 26,
     "metadata": {},
     "output_type": "execute_result"
    }
   ],
   "source": [
    "finder.nbest(TrigramAssocMeasures.likelihood_ratio, 10)"
   ]
  },
  {
   "cell_type": "code",
   "execution_count": 27,
   "metadata": {},
   "outputs": [],
   "source": [
    "finder.apply_word_filter(fiterstops)"
   ]
  },
  {
   "cell_type": "code",
   "execution_count": 28,
   "metadata": {},
   "outputs": [
    {
     "data": {
      "text/plain": [
       "[('Tendulkar', 'speaks', 'volume'),\n",
       " ('The', \"'Master\", 'Blaster'),\n",
       " ('like', 'many', 'great'),\n",
       " ('many', 'great', 'cricketers'),\n",
       " ('wins', 'India', 'matches')]"
      ]
     },
     "execution_count": 28,
     "metadata": {},
     "output_type": "execute_result"
    }
   ],
   "source": [
    "finder.nbest(TrigramAssocMeasures.likelihood_ratio, 10)"
   ]
  },
  {
   "cell_type": "code",
   "execution_count": 31,
   "metadata": {},
   "outputs": [],
   "source": [
    "# finder.apply_freq_filter(2)"
   ]
  },
  {
   "cell_type": "code",
   "execution_count": 34,
   "metadata": {},
   "outputs": [],
   "source": [
    "# finder.nbest(TrigramAssocMeasures.likelihood_ratio,2)"
   ]
  },
  {
   "cell_type": "code",
   "execution_count": null,
   "metadata": {},
   "outputs": [],
   "source": []
  }
 ],
 "metadata": {
  "kernelspec": {
   "display_name": "Python 3",
   "language": "python",
   "name": "python3"
  },
  "language_info": {
   "codemirror_mode": {
    "name": "ipython",
    "version": 3
   },
   "file_extension": ".py",
   "mimetype": "text/x-python",
   "name": "python",
   "nbconvert_exporter": "python",
   "pygments_lexer": "ipython3",
   "version": "3.7.3"
  }
 },
 "nbformat": 4,
 "nbformat_minor": 2
}
