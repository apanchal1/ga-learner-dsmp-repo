{
 "cells": [
  {
   "cell_type": "code",
   "execution_count": 3,
   "metadata": {},
   "outputs": [],
   "source": [
    "import os\n",
    "import pandas as pd\n",
    "import numpy as np"
   ]
  },
  {
   "cell_type": "code",
   "execution_count": 4,
   "metadata": {},
   "outputs": [],
   "source": [
    "Country = ['India','Afghanistan','China','Egypt','Germany']"
   ]
  },
  {
   "cell_type": "code",
   "execution_count": 5,
   "metadata": {},
   "outputs": [],
   "source": [
    "Capital = ['New Delhi','Kabul','Beijing','Cairo','Berlin']"
   ]
  },
  {
   "cell_type": "code",
   "execution_count": 16,
   "metadata": {},
   "outputs": [
    {
     "data": {
      "text/plain": [
       "[12, 24, 36, 48, 60, 72, 84, 96]"
      ]
     },
     "execution_count": 16,
     "metadata": {},
     "output_type": "execute_result"
    }
   ],
   "source": [
    "# Print numbers from 1 to 100 which is divisble by 3 and 4\n",
    "num_1 = range(1,101)\n",
    "list_1 =[]\n",
    "for x in num_1:\n",
    "    if x%3==0 and x%4==0:\n",
    "        list_1.append(x)\n",
    "    \n",
    "list_1"
   ]
  },
  {
   "cell_type": "code",
   "execution_count": 17,
   "metadata": {},
   "outputs": [
    {
     "data": {
      "text/plain": [
       "[12, 24, 36, 48, 60, 72, 84, 96]"
      ]
     },
     "execution_count": 17,
     "metadata": {},
     "output_type": "execute_result"
    }
   ],
   "source": [
    "# Print numbers from 1 to 100 which is divisble by 3 and 4, List comprehension\n",
    "list_1 = [x for x in num_1 if x%3==0 and x%4==0]\n",
    "list_1"
   ]
  },
  {
   "cell_type": "code",
   "execution_count": 31,
   "metadata": {},
   "outputs": [],
   "source": [
    "prime_number = []"
   ]
  },
  {
   "cell_type": "code",
   "execution_count": 40,
   "metadata": {},
   "outputs": [
    {
     "data": {
      "text/plain": [
       "[2,\n",
       " 3,\n",
       " 5,\n",
       " 7,\n",
       " 11,\n",
       " 13,\n",
       " 17,\n",
       " 19,\n",
       " 23,\n",
       " 29,\n",
       " 31,\n",
       " 37,\n",
       " 41,\n",
       " 43,\n",
       " 47,\n",
       " 53,\n",
       " 59,\n",
       " 61,\n",
       " 67,\n",
       " 71,\n",
       " 73,\n",
       " 79,\n",
       " 83,\n",
       " 89,\n",
       " 97]"
      ]
     },
     "execution_count": 40,
     "metadata": {},
     "output_type": "execute_result"
    }
   ],
   "source": [
    "# Prime Nuumbers\n",
    "prime_nums=[]\n",
    "for x in num_1:\n",
    "   count=0\n",
    "   for i in range(1,x+1):\n",
    "       if x%i==0:\n",
    "           count=count+1\n",
    "   if count==2:\n",
    "       prime_nums.append(x)\n",
    "prime_nums"
   ]
  },
  {
   "cell_type": "code",
   "execution_count": 49,
   "metadata": {
    "scrolled": true
   },
   "outputs": [
    {
     "data": {
      "text/plain": [
       "[1,\n",
       " 2,\n",
       " 9,\n",
       " 4,\n",
       " 25,\n",
       " 6,\n",
       " 49,\n",
       " 8,\n",
       " 81,\n",
       " 10,\n",
       " 121,\n",
       " 12,\n",
       " 169,\n",
       " 14,\n",
       " 225,\n",
       " 16,\n",
       " 289,\n",
       " 18,\n",
       " 361,\n",
       " 20,\n",
       " 441,\n",
       " 22,\n",
       " 529,\n",
       " 24,\n",
       " 625,\n",
       " 26,\n",
       " 729,\n",
       " 28,\n",
       " 841,\n",
       " 30,\n",
       " 961,\n",
       " 32,\n",
       " 1089,\n",
       " 34,\n",
       " 1225,\n",
       " 36,\n",
       " 1369,\n",
       " 38,\n",
       " 1521,\n",
       " 40,\n",
       " 1681,\n",
       " 42,\n",
       " 1849,\n",
       " 44,\n",
       " 2025,\n",
       " 46,\n",
       " 2209,\n",
       " 48,\n",
       " 2401,\n",
       " 50,\n",
       " 2601,\n",
       " 52,\n",
       " 2809,\n",
       " 54,\n",
       " 3025,\n",
       " 56,\n",
       " 3249,\n",
       " 58,\n",
       " 3481,\n",
       " 60,\n",
       " 3721,\n",
       " 62,\n",
       " 3969,\n",
       " 64,\n",
       " 4225,\n",
       " 66,\n",
       " 4489,\n",
       " 68,\n",
       " 4761,\n",
       " 70,\n",
       " 5041,\n",
       " 72,\n",
       " 5329,\n",
       " 74,\n",
       " 5625,\n",
       " 76,\n",
       " 5929,\n",
       " 78,\n",
       " 6241,\n",
       " 80,\n",
       " 6561,\n",
       " 82,\n",
       " 6889,\n",
       " 84,\n",
       " 7225,\n",
       " 86,\n",
       " 7569,\n",
       " 88,\n",
       " 7921,\n",
       " 90,\n",
       " 8281,\n",
       " 92,\n",
       " 8649,\n",
       " 94,\n",
       " 9025,\n",
       " 96,\n",
       " 9409,\n",
       " 98,\n",
       " 9801,\n",
       " 100]"
      ]
     },
     "execution_count": 49,
     "metadata": {},
     "output_type": "execute_result"
    }
   ],
   "source": [
    "#  Print even numbers and odd numbers squared from 1 to 100\n",
    "evens = []\n",
    "for i in range(1,101):\n",
    "    if i%2==0:\n",
    "        evens.append(i)\n",
    "    else:\n",
    "        evens.append(i*i)\n",
    "evens\n"
   ]
  },
  {
   "cell_type": "code",
   "execution_count": 55,
   "metadata": {
    "scrolled": true
   },
   "outputs": [
    {
     "data": {
      "text/plain": [
       "[1,\n",
       " 2,\n",
       " 9,\n",
       " 4,\n",
       " 25,\n",
       " 6,\n",
       " 49,\n",
       " 8,\n",
       " 81,\n",
       " 10,\n",
       " 121,\n",
       " 12,\n",
       " 169,\n",
       " 14,\n",
       " 225,\n",
       " 16,\n",
       " 289,\n",
       " 18,\n",
       " 361,\n",
       " 20,\n",
       " 441,\n",
       " 22,\n",
       " 529,\n",
       " 24,\n",
       " 625,\n",
       " 26,\n",
       " 729,\n",
       " 28,\n",
       " 841,\n",
       " 30,\n",
       " 961,\n",
       " 32,\n",
       " 1089,\n",
       " 34,\n",
       " 1225,\n",
       " 36,\n",
       " 1369,\n",
       " 38,\n",
       " 1521,\n",
       " 40,\n",
       " 1681,\n",
       " 42,\n",
       " 1849,\n",
       " 44,\n",
       " 2025,\n",
       " 46,\n",
       " 2209,\n",
       " 48,\n",
       " 2401,\n",
       " 50,\n",
       " 2601,\n",
       " 52,\n",
       " 2809,\n",
       " 54,\n",
       " 3025,\n",
       " 56,\n",
       " 3249,\n",
       " 58,\n",
       " 3481,\n",
       " 60,\n",
       " 3721,\n",
       " 62,\n",
       " 3969,\n",
       " 64,\n",
       " 4225,\n",
       " 66,\n",
       " 4489,\n",
       " 68,\n",
       " 4761,\n",
       " 70,\n",
       " 5041,\n",
       " 72,\n",
       " 5329,\n",
       " 74,\n",
       " 5625,\n",
       " 76,\n",
       " 5929,\n",
       " 78,\n",
       " 6241,\n",
       " 80,\n",
       " 6561,\n",
       " 82,\n",
       " 6889,\n",
       " 84,\n",
       " 7225,\n",
       " 86,\n",
       " 7569,\n",
       " 88,\n",
       " 7921,\n",
       " 90,\n",
       " 8281,\n",
       " 92,\n",
       " 8649,\n",
       " 94,\n",
       " 9025,\n",
       " 96,\n",
       " 9409,\n",
       " 98,\n",
       " 9801,\n",
       " 100]"
      ]
     },
     "execution_count": 55,
     "metadata": {},
     "output_type": "execute_result"
    }
   ],
   "source": [
    "#  Print even numbers and odd numbers squared from 1 to 100, list comprehension\n",
    "ar = [(i if i % 2 == 0 else (i**2 if i % 2 != 0 else i)) for i in range(1, 101)]\n",
    "ar"
   ]
  },
  {
   "cell_type": "code",
   "execution_count": 56,
   "metadata": {},
   "outputs": [
    {
     "name": "stdout",
     "output_type": "stream",
     "text": [
      "5\n"
     ]
    }
   ],
   "source": [
    "# Function basics\n",
    "def sum_1(a,b):\n",
    "    print(a+b)\n",
    "\n",
    "sum_1(2,3)"
   ]
  },
  {
   "cell_type": "code",
   "execution_count": 57,
   "metadata": {},
   "outputs": [],
   "source": [
    "# *args and **kwargs\n",
    "def multiply_num(*s):\n",
    "    a = 0\n",
    "    for i in s:\n",
    "        a+=i\n",
    "    print(a)"
   ]
  },
  {
   "cell_type": "code",
   "execution_count": 58,
   "metadata": {},
   "outputs": [
    {
     "name": "stdout",
     "output_type": "stream",
     "text": [
      "15\n"
     ]
    }
   ],
   "source": [
    "multiply_num(1,2,3,4,5)"
   ]
  },
  {
   "cell_type": "code",
   "execution_count": 59,
   "metadata": {},
   "outputs": [
    {
     "name": "stdout",
     "output_type": "stream",
     "text": [
      "9\n"
     ]
    }
   ],
   "source": [
    "multiply_num(2,3,4)"
   ]
  },
  {
   "cell_type": "code",
   "execution_count": 60,
   "metadata": {},
   "outputs": [
    {
     "name": "stdout",
     "output_type": "stream",
     "text": [
      "0\n"
     ]
    }
   ],
   "source": [
    "multiply_num()"
   ]
  },
  {
   "cell_type": "code",
   "execution_count": 61,
   "metadata": {},
   "outputs": [
    {
     "name": "stdout",
     "output_type": "stream",
     "text": [
      "a\n",
      "b\n"
     ]
    }
   ],
   "source": [
    "#  Looping to dictionary\n",
    "c= {'a':1,'b':2}\n",
    "\n",
    "for x in c:\n",
    "    print(x)"
   ]
  },
  {
   "cell_type": "code",
   "execution_count": 62,
   "metadata": {},
   "outputs": [
    {
     "name": "stdout",
     "output_type": "stream",
     "text": [
      "('a', 1)\n",
      "('b', 2)\n"
     ]
    }
   ],
   "source": [
    "for x in c.items():\n",
    "    print(x)"
   ]
  },
  {
   "cell_type": "code",
   "execution_count": 63,
   "metadata": {},
   "outputs": [
    {
     "name": "stdout",
     "output_type": "stream",
     "text": [
      "a 1\n",
      "b 2\n"
     ]
    }
   ],
   "source": [
    "for x in c.items():\n",
    "    print(x[0],x[1])"
   ]
  },
  {
   "cell_type": "code",
   "execution_count": 64,
   "metadata": {},
   "outputs": [
    {
     "data": {
      "text/plain": [
       "{1, 2, 3, 4, 'a'}"
      ]
     },
     "execution_count": 64,
     "metadata": {},
     "output_type": "execute_result"
    }
   ],
   "source": [
    "#  add and remove element to set\n",
    "l = [1,2,3,3,4,'a','a']\n",
    "c = set(l)\n",
    "c"
   ]
  },
  {
   "cell_type": "code",
   "execution_count": 65,
   "metadata": {},
   "outputs": [
    {
     "data": {
      "text/plain": [
       "{1, 2, 3, 4, 'a', 'b'}"
      ]
     },
     "execution_count": 65,
     "metadata": {},
     "output_type": "execute_result"
    }
   ],
   "source": [
    "c.add('b')\n",
    "c"
   ]
  },
  {
   "cell_type": "code",
   "execution_count": 66,
   "metadata": {},
   "outputs": [],
   "source": [
    "c.remove(3)"
   ]
  },
  {
   "cell_type": "code",
   "execution_count": 67,
   "metadata": {},
   "outputs": [
    {
     "data": {
      "text/plain": [
       "{1, 2, 4, 'a', 'b'}"
      ]
     },
     "execution_count": 67,
     "metadata": {},
     "output_type": "execute_result"
    }
   ],
   "source": [
    "c"
   ]
  },
  {
   "cell_type": "code",
   "execution_count": 68,
   "metadata": {},
   "outputs": [
    {
     "name": "stdout",
     "output_type": "stream",
     "text": [
      "0 India\n",
      "1 Afghanistan\n",
      "2 China\n",
      "3 Egypt\n",
      "4 Germany\n"
     ]
    }
   ],
   "source": [
    "# enumerate \n",
    "Country = ['India','Afghanistan','China','Egypt','Germany']\n",
    "for i,x in enumerate(Country):\n",
    "    print(i,x)"
   ]
  },
  {
   "cell_type": "code",
   "execution_count": 71,
   "metadata": {},
   "outputs": [
    {
     "name": "stdout",
     "output_type": "stream",
     "text": [
      "0.0010001659393310547\n"
     ]
    }
   ],
   "source": [
    "# Map function\n",
    "l = list(range(5,12))\n",
    "\n",
    "def squared(l):\n",
    "    return l**2\n",
    "\n",
    "import time\n",
    "start = time.time()\n",
    "list(map(squared,l))\n",
    "end = time.time()\n",
    "print(end-start)"
   ]
  },
  {
   "cell_type": "code",
   "execution_count": 77,
   "metadata": {},
   "outputs": [
    {
     "data": {
      "text/plain": [
       "1"
      ]
     },
     "execution_count": 77,
     "metadata": {},
     "output_type": "execute_result"
    }
   ],
   "source": [
    "# Lambda function is used only for simple operation not for complex data function\n",
    "\n",
    "squared_num = lambda num:num**2\n",
    "squared_num(1)"
   ]
  },
  {
   "cell_type": "code",
   "execution_count": null,
   "metadata": {},
   "outputs": [],
   "source": []
  }
 ],
 "metadata": {
  "kernelspec": {
   "display_name": "Python 3",
   "language": "python",
   "name": "python3"
  },
  "language_info": {
   "codemirror_mode": {
    "name": "ipython",
    "version": 3
   },
   "file_extension": ".py",
   "mimetype": "text/x-python",
   "name": "python",
   "nbconvert_exporter": "python",
   "pygments_lexer": "ipython3",
   "version": "3.7.3"
  }
 },
 "nbformat": 4,
 "nbformat_minor": 2
}
